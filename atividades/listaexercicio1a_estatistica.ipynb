{
 "cells": [
  {
   "cell_type": "markdown",
   "metadata": {},
   "source": [
    "<div class=\"alert alert-block alert-info\">\n",
    "<center>ESTATÍSTICA APLICADA</center>\n",
    "<center>LISTA DE EXERCÍCIOS 1a</center>\n",
    "<center>ALUNO: Diego Cardoso dos Santos</center>\n",
    "</div>"
   ]
  },
  {
   "cell_type": "markdown",
   "metadata": {},
   "source": [
    "<div class=\"alert alert-block alert-info\">\n",
    "Tipo de bloco para ajudar a descrever cada questão que se está respondendo da lista: questão 1, item a), etc.\n",
    "</div>"
   ]
  },
  {
   "cell_type": "markdown",
   "metadata": {},
   "source": [
    "\t1. A) Alturas de balões de ar quente;\n",
    "\t\tQuantitativa contínua, altura é uma quantidade contável e pode ser expresso em um intervalo de números reais.\n",
    "\t\t\n",
    "        B) Capacidades de carga de caminhonetes;\n",
    "            Quantitativas contínua, carga é uma quantidade contável e pode ser expresso em um intervalo de números reais.\n",
    "\n",
    "        C) Cores dos olhos de modelos;\n",
    "            Qualitativas nominal, as cores dos olhos não podem ser ordenadas quantitativamente.\n",
    "\n",
    "        D) Números de identidade de estudantes; \n",
    "            Qualitativa nominal, a unidade pessoal respresentativa da pessoa.\n",
    "\n",
    "        E) Respostas em uma pesquisa de opinião\n",
    "            Qualitativa nominal, Pois as respostas não podem ser ordenada quantitativamente.\n",
    "\n",
    "\n",
    " \t2. Sexo: Qualitativa nominal, os nomes não tem podem ser classificados em melhor ou pior.\n",
    "       Matéria predileta: Qualitativa nominal, as matérias são escolhas pessoais.\n",
    "       Notas: Quantitativas discretas, as notas são inteiras e descrevem uma unidade contável.\n",
    "\n",
    "\n",
    "\t3. PAP: Qualitativa ordinária, pois depedendo da resposta, pode indicar se a família tem rende baixa ou não.\n",
    "       GI: Qualitativa ordinal, pois indica o grau de instrução \n",
    "       RES: Quantitativa discreta, indica o número de pessoas e descreve uma unidade contável.\n",
    "       RENDA: Quantitativa contínua, Indica a renda mensal e não podem ser enumeradas."
   ]
  },
  {
   "cell_type": "code",
   "execution_count": null,
   "metadata": {},
   "outputs": [],
   "source": []
  }
 ],
 "metadata": {
  "kernelspec": {
   "display_name": "Python 3",
   "language": "python",
   "name": "python3"
  },
  "language_info": {
   "codemirror_mode": {
    "name": "ipython",
    "version": 3
   },
   "file_extension": ".py",
   "mimetype": "text/x-python",
   "name": "python",
   "nbconvert_exporter": "python",
   "pygments_lexer": "ipython3",
   "version": "3.8.8"
  }
 },
 "nbformat": 4,
 "nbformat_minor": 4
}
