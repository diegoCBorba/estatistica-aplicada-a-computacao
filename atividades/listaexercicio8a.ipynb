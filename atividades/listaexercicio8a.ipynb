{
 "cells": [
  {
   "cell_type": "markdown",
   "id": "3d621962",
   "metadata": {},
   "source": [
    "<div class=\"alert alert-block alert-info\">\n",
    "<center>ESTATÍSTICA APLICADA</center>\n",
    "<center>LISTA DE EXERCÍCIOS 8a</center>\n",
    "<center>ALUNO: Diego Cardoso dos Santos</center>\n",
    "</div>"
   ]
  },
  {
   "cell_type": "markdown",
   "id": "7aa9f365",
   "metadata": {},
   "source": [
    "<div class=\"alert alert-block alert-info\">\n",
    "1. \n",
    "    \n",
    "    A) Alturas de balões de ar quente;\n",
    "    Quantitativa contínua, altura é uma quantidade contável e pode ser expresso em um intervalo de números reais.\n",
    "\n",
    "    B) Capacidades de carga de caminhonetes;\n",
    "        Quantitativas contínua, carga é uma quantidade contável e pode ser expresso em um intervalo de números reais.\n",
    "\n",
    "    C) Cores dos olhos de modelos;\n",
    "        Qualitativas nominal, as cores dos olhos não podem ser ordenadas quantitativamente.\n",
    "\n",
    "    D) Números de identidade de estudantes; \n",
    "        Qualitativa nominal, a unidade pessoal respresentativa da pessoa.\n",
    "\n",
    "    E) Respostas em uma pesquisa de opinião;\n",
    "        Qualitativa nominal, Pois as respostas não podem ser ordenada quantitativamente.\n",
    "</div>"
   ]
  },
  {
   "cell_type": "markdown",
   "id": "101e5814",
   "metadata": {},
   "source": [
    "<div class=\"alert alert-block alert-info\">\n",
    "2. a)\n",
    "    \n",
    "    Sexo: Qualitativa nominal, os nomes não tem podem ser classificados em melhor ou pior.\n",
    "    \n",
    "    Matéria predileta: Qualitativa nominal, as matérias são escolhas pessoais.\n",
    "    \n",
    "    Notas: Quantitativas discretas, as notas são inteiras e descrevem uma unidade contável.\n",
    "\n",
    "</div>"
   ]
  },
  {
   "cell_type": "code",
   "execution_count": 1,
   "id": "4a0a6011",
   "metadata": {},
   "outputs": [
    {
     "data": {
      "text/html": [
       "<div>\n",
       "<style scoped>\n",
       "    .dataframe tbody tr th:only-of-type {\n",
       "        vertical-align: middle;\n",
       "    }\n",
       "\n",
       "    .dataframe tbody tr th {\n",
       "        vertical-align: top;\n",
       "    }\n",
       "\n",
       "    .dataframe thead th {\n",
       "        text-align: right;\n",
       "    }\n",
       "</style>\n",
       "<table border=\"1\" class=\"dataframe\">\n",
       "  <thead>\n",
       "    <tr style=\"text-align: right;\">\n",
       "      <th></th>\n",
       "      <th>Freq. dos gêneros</th>\n",
       "    </tr>\n",
       "  </thead>\n",
       "  <tbody>\n",
       "    <tr>\n",
       "      <th>F</th>\n",
       "      <td>21</td>\n",
       "    </tr>\n",
       "    <tr>\n",
       "      <th>M</th>\n",
       "      <td>21</td>\n",
       "    </tr>\n",
       "  </tbody>\n",
       "</table>\n",
       "</div>"
      ],
      "text/plain": [
       "   Freq. dos gêneros\n",
       "F                 21\n",
       "M                 21"
      ]
     },
     "metadata": {},
     "output_type": "display_data"
    },
    {
     "data": {
      "text/html": [
       "<div>\n",
       "<style scoped>\n",
       "    .dataframe tbody tr th:only-of-type {\n",
       "        vertical-align: middle;\n",
       "    }\n",
       "\n",
       "    .dataframe tbody tr th {\n",
       "        vertical-align: top;\n",
       "    }\n",
       "\n",
       "    .dataframe thead th {\n",
       "        text-align: right;\n",
       "    }\n",
       "</style>\n",
       "<table border=\"1\" class=\"dataframe\">\n",
       "  <thead>\n",
       "    <tr style=\"text-align: right;\">\n",
       "      <th></th>\n",
       "      <th>Freq. matéria fav</th>\n",
       "    </tr>\n",
       "  </thead>\n",
       "  <tbody>\n",
       "    <tr>\n",
       "      <th>M</th>\n",
       "      <td>14</td>\n",
       "    </tr>\n",
       "    <tr>\n",
       "      <th>P</th>\n",
       "      <td>10</td>\n",
       "    </tr>\n",
       "    <tr>\n",
       "      <th>G</th>\n",
       "      <td>8</td>\n",
       "    </tr>\n",
       "    <tr>\n",
       "      <th>H</th>\n",
       "      <td>7</td>\n",
       "    </tr>\n",
       "    <tr>\n",
       "      <th>C</th>\n",
       "      <td>3</td>\n",
       "    </tr>\n",
       "  </tbody>\n",
       "</table>\n",
       "</div>"
      ],
      "text/plain": [
       "   Freq. matéria fav\n",
       "M                 14\n",
       "P                 10\n",
       "G                  8\n",
       "H                  7\n",
       "C                  3"
      ]
     },
     "metadata": {},
     "output_type": "display_data"
    }
   ],
   "source": [
    "# 2. b)\n",
    "\n",
    "import pandas as pd\n",
    "import numpy as np\n",
    "\n",
    "df = pd.DataFrame(data= {\"Sexo\":['F','M','F','F','M','M','F','F','F','M','F','M','M','M','M','M','F','F','M','M','F','F','M','M','F','F','M','M','F','F','F','M','M','F','M','M','F','M','F','F','F','M'], \n",
    "\"Predileta\": ['H','M','P','H','C','H','M','P','H','C','P','M','G','G','M','M','P','G','G','P','M','G','H','M','P','G','C','H','M','P','M','G','H','M','P','G','M','P','M','M','P','M'],\n",
    "\"Nota\": ['5','8','8','6','5','6','8','4','2','6','8','2','4','9','7','1','8','5','9','5','8','6','3','5','5','5','7','4','7','7','6','6','9','8','5','6','7','5','5','5','9','8']})\n",
    "\n",
    "df_sexo = pd.DataFrame(df['Sexo'].value_counts().to_dict(), index=['Freq. dos gêneros']).transpose()\n",
    "df_predileta = pd.DataFrame(df['Predileta'].value_counts().to_dict(), index=['Freq. matéria fav']).transpose()\n",
    "\n",
    "display(df_sexo)\n",
    "display(df_predileta)"
   ]
  },
  {
   "cell_type": "code",
   "execution_count": 2,
   "id": "cc4b401e",
   "metadata": {},
   "outputs": [
    {
     "data": {
      "text/plain": [
       "<AxesSubplot:title={'center':'Frequência dos gêneros'}>"
      ]
     },
     "execution_count": 2,
     "metadata": {},
     "output_type": "execute_result"
    },
    {
     "data": {
      "image/png": "[encoded data removed]",
      "text/plain": [
       "<Figure size 432x288 with 1 Axes>"
      ]
     },
     "metadata": {
      "needs_background": "light"
     },
     "output_type": "display_data"
    }
   ],
   "source": [
    "%matplotlib inline\n",
    "df[\"Sexo\"].value_counts().plot.barh(title=\"Frequência dos gêneros\")"
   ]
  },
  {
   "cell_type": "code",
   "execution_count": 3,
   "id": "ae59470c",
   "metadata": {},
   "outputs": [
    {
     "data": {
      "text/plain": [
       "<AxesSubplot:title={'center':'Matérias prediletas'}>"
      ]
     },
     "execution_count": 3,
     "metadata": {},
     "output_type": "execute_result"
    },
    {
     "data": {
      "image/png": "[encoded data removed]",
      "text/plain": [
       "<Figure size 432x288 with 1 Axes>"
      ]
     },
     "metadata": {
      "needs_background": "light"
     },
     "output_type": "display_data"
    }
   ],
   "source": [
    "%matplotlib inline\n",
    "df[\"Predileta\"].value_counts().plot.barh(title=\"Matérias prediletas\")"
   ]
  },
  {
   "cell_type": "markdown",
   "id": "2c986a2f",
   "metadata": {},
   "source": [
    "<div class=\"alert alert-block alert-info\">\n",
    "\n",
    "3. a)\n",
    "\n",
    "    PAP: Qualitativa ordinária, pois depedendo da resposta, pode indicar se a família tem rende baixa ou não.\n",
    "    \n",
    "    GI: Qualitativa ordinal, pois indica o grau de instrução \n",
    "    \n",
    "    RES: Quantitativa discreta, indica o número de pessoas e descreve uma unidade contável.\n",
    "    \n",
    "    RENDA: Quantitativa contínua, Indica a renda mensal e não podem ser enumeradas.\n",
    "        \n",
    "</div>"
   ]
  },
  {
   "cell_type": "code",
   "execution_count": 4,
   "id": "2849986e",
   "metadata": {},
   "outputs": [],
   "source": [
    "df = pd.DataFrame(data= {'PAP' : [0,0,1,0,1,1,0,1,1,1,0,1,0,0,0,0,1,0,0,1,1,1,0,0,0,1,1,0,1,0,1,1,1,1,1,1,1,1,1,1],\n",
    "'GI' : [3,3,2,2,3,1,3,3,3,2,2,1,2,2,3,2,3,3,3,3,3,3,3,2,2,3,1,3,2,3,3,2,3,1,1,1,3,3,3,3]})\n",
    "\n",
    "df['PAP'] = df['PAP'].map({1: 'Sim', 0: 'Não'})\n",
    "df['GI'] = df['GI'].map({1: 'Nenhum grau', 2: 'Primeiro grau', 3: 'Segundo grau'})"
   ]
  },
  {
   "cell_type": "code",
   "execution_count": 5,
   "id": "b2600060",
   "metadata": {},
   "outputs": [
    {
     "data": {
      "text/plain": [
       "<AxesSubplot:title={'center':'Variável indicadora de uso de programas de alimentação'}>"
      ]
     },
     "execution_count": 5,
     "metadata": {},
     "output_type": "execute_result"
    },
    {
     "data": {
      "image/png": "[encoded data removed]",
      "text/plain": [
       "<Figure size 432x288 with 1 Axes>"
      ]
     },
     "metadata": {
      "needs_background": "light"
     },
     "output_type": "display_data"
    }
   ],
   "source": [
    "%matplotlib inline\n",
    "df[\"PAP\"].value_counts().plot.barh(title=\"Variável indicadora de uso de programas de alimentação\")"
   ]
  },
  {
   "cell_type": "code",
   "execution_count": 6,
   "id": "7dd39165",
   "metadata": {},
   "outputs": [
    {
     "data": {
      "text/plain": [
       "<AxesSubplot:title={'center':'Grau de instrução do chefe da casa'}>"
      ]
     },
     "execution_count": 6,
     "metadata": {},
     "output_type": "execute_result"
    },
    {
     "data": {
      "image/png": "[encoded data removed]",
      "text/plain": [
       "<Figure size 432x288 with 1 Axes>"
      ]
     },
     "metadata": {
      "needs_background": "light"
     },
     "output_type": "display_data"
    }
   ],
   "source": [
    "%matplotlib inline\n",
    "df[\"GI\"].value_counts().plot.barh(title=\"Grau de instrução do chefe da casa\")"
   ]
  },
  {
   "cell_type": "code",
   "execution_count": null,
   "id": "1099680f",
   "metadata": {},
   "outputs": [],
   "source": []
  }
 ],
 "metadata": {
  "kernelspec": {
   "display_name": "Python 3",
   "language": "python",
   "name": "python3"
  },
  "language_info": {
   "codemirror_mode": {
    "name": "ipython",
    "version": 3
   },
   "file_extension": ".py",
   "mimetype": "text/x-python",
   "name": "python",
   "nbconvert_exporter": "python",
   "pygments_lexer": "ipython3",
   "version": "3.8.8"
  }
 },
 "nbformat": 4,
 "nbformat_minor": 5
}
