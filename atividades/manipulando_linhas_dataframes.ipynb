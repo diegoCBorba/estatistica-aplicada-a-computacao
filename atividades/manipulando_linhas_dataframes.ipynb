{
 "cells": [
  {
   "cell_type": "code",
   "execution_count": 1,
   "id": "518bee0f",
   "metadata": {},
   "outputs": [],
   "source": [
    "import pandas as pd\n",
    "alunosDIC = {'Nome':['Ricardo', 'Pedro', 'Roberto', 'Carlos'],\n",
    "            'Nota': [4, 7, 5.5, 9],\n",
    "            'Aprovado':['Não', 'Sim', 'Não', 'Sim']}"
   ]
  },
  {
   "cell_type": "code",
   "execution_count": 3,
   "id": "acf3d1b0",
   "metadata": {},
   "outputs": [],
   "source": [
    "alunosDF = pd.DataFrame(alunosDIC)"
   ]
  },
  {
   "cell_type": "code",
   "execution_count": 4,
   "id": "3c9f7bff",
   "metadata": {},
   "outputs": [
    {
     "name": "stdout",
     "output_type": "stream",
     "text": [
      "      Nome  Nota Aprovado\n",
      "0  Ricardo   4.0      Não\n",
      "1    Pedro   7.0      Sim\n",
      "2  Roberto   5.5      Não\n",
      "3   Carlos   9.0      Sim\n"
     ]
    }
   ],
   "source": [
    "print(alunosDF)"
   ]
  },
  {
   "cell_type": "code",
   "execution_count": 6,
   "id": "f5b3f621",
   "metadata": {},
   "outputs": [],
   "source": [
    "primeiraslinhas = alunosDF.loc[0:2]"
   ]
  },
  {
   "cell_type": "code",
   "execution_count": 7,
   "id": "1d623581",
   "metadata": {},
   "outputs": [
    {
     "name": "stdout",
     "output_type": "stream",
     "text": [
      "      Nome  Nota Aprovado\n",
      "0  Ricardo   4.0      Não\n",
      "1    Pedro   7.0      Sim\n",
      "2  Roberto   5.5      Não\n"
     ]
    }
   ],
   "source": [
    "print(primeiraslinhas)"
   ]
  },
  {
   "cell_type": "code",
   "execution_count": 10,
   "id": "7dcb5ca2",
   "metadata": {},
   "outputs": [],
   "source": [
    "novoDF = alunosDF.loc[alunosDF['Nota']!=9]"
   ]
  },
  {
   "cell_type": "code",
   "execution_count": 11,
   "id": "1ce2f4ee",
   "metadata": {},
   "outputs": [
    {
     "name": "stdout",
     "output_type": "stream",
     "text": [
      "      Nome  Nota Aprovado\n",
      "0  Ricardo   4.0      Não\n",
      "1    Pedro   7.0      Sim\n",
      "2  Roberto   5.5      Não\n"
     ]
    }
   ],
   "source": [
    "print(novoDF)"
   ]
  },
  {
   "cell_type": "code",
   "execution_count": 12,
   "id": "4d9d0866",
   "metadata": {},
   "outputs": [],
   "source": [
    "alunosReprovados = alunosDF.loc[alunosDF['Aprovado']!= 'Sim']"
   ]
  },
  {
   "cell_type": "code",
   "execution_count": 13,
   "id": "09ce9499",
   "metadata": {},
   "outputs": [
    {
     "name": "stdout",
     "output_type": "stream",
     "text": [
      "      Nome  Nota Aprovado\n",
      "0  Ricardo   4.0      Não\n",
      "2  Roberto   5.5      Não\n"
     ]
    }
   ],
   "source": [
    "print(alunosReprovados)"
   ]
  },
  {
   "cell_type": "code",
   "execution_count": null,
   "id": "0c240fbc",
   "metadata": {},
   "outputs": [],
   "source": []
  }
 ],
 "metadata": {
  "kernelspec": {
   "display_name": "Python 3",
   "language": "python",
   "name": "python3"
  },
  "language_info": {
   "codemirror_mode": {
    "name": "ipython",
    "version": 3
   },
   "file_extension": ".py",
   "mimetype": "text/x-python",
   "name": "python",
   "nbconvert_exporter": "python",
   "pygments_lexer": "ipython3",
   "version": "3.8.8"
  }
 },
 "nbformat": 4,
 "nbformat_minor": 5
}
